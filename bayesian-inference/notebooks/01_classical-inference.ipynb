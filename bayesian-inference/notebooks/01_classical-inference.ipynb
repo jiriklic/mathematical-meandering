{
 "cells": [
  {
   "cell_type": "markdown",
   "id": "ffc97834-e696-4f87-afe2-5d2a2243bd22",
   "metadata": {},
   "source": []
  },
  {
   "cell_type": "code",
   "execution_count": 1,
   "id": "c4c28616-1303-4796-8913-527b2b084c7a",
   "metadata": {},
   "outputs": [],
   "source": [
    "import random\n",
    "import scipy\n",
    "from scipy import stats\n",
    "import matplotlib.pyplot as plt\n",
    "import numpy as np\n",
    "import ipywidgets as widgets"
   ]
  },
  {
   "cell_type": "code",
   "execution_count": 2,
   "id": "7a178578-d2a6-449d-8841-dba04252a63f",
   "metadata": {},
   "outputs": [],
   "source": [
    "import random\n",
    "\n",
    "from utils import (\n",
    "    print_sample,\n",
    "    plot_norm,\n",
    "    interact_norm,\n",
    "    plot_beta,\n",
    "    interact_beta,\n",
    "    plot_gamma,\n",
    "    interact_gamma\n",
    ")"
   ]
  },
  {
   "cell_type": "code",
   "execution_count": 3,
   "id": "a7b35925-bcba-4c86-9bc1-080ea1db5c1c",
   "metadata": {},
   "outputs": [],
   "source": [
    "population1 = []\n",
    "\n",
    "for val in range(1, 10):\n",
    "    population1.append(val)"
   ]
  },
  {
   "cell_type": "code",
   "execution_count": 4,
   "id": "bd2f2686-53b9-4626-a6ea-3c2c582bdaea",
   "metadata": {},
   "outputs": [
    {
     "name": "stdout",
     "output_type": "stream",
     "text": [
      "[1, 2, 3, 4, 5, 6, 7, 8, 9]\n",
      "Size:\t9\n",
      "Min:\t1\n",
      "Max:\t9\n",
      "Mean:\t5.00\n",
      "Sum:\t45\n"
     ]
    }
   ],
   "source": [
    "print_sample(population1)"
   ]
  },
  {
   "cell_type": "code",
   "execution_count": 5,
   "id": "c8771e2b-962e-42ae-a0ad-72330e1ab615",
   "metadata": {},
   "outputs": [],
   "source": [
    "population2 = []\n",
    "\n",
    "for _ in range(1000):\n",
    "    for val in range(1, 10):\n",
    "        population2.append(val)"
   ]
  },
  {
   "cell_type": "code",
   "execution_count": 6,
   "id": "fb64107f-cb10-4369-a62e-a908e1e004ae",
   "metadata": {},
   "outputs": [
    {
     "name": "stdout",
     "output_type": "stream",
     "text": [
      "[1, 2, 3, 4, 5, 6, 7, 8, 9, 1, 2, 3, 4, 5, 6, 7, 8, 9, 1, 2, 3, 4, 5, 6, 7, 8, 9, 1, 2, 3, 4, 5, 6, 7, 8, 9]\n",
      "Size:\t9000\n",
      "Min:\t1\n",
      "Max:\t9\n",
      "Mean:\t5.00\n",
      "Sum:\t45000\n"
     ]
    }
   ],
   "source": [
    "print_sample(population2, 36)"
   ]
  },
  {
   "cell_type": "code",
   "execution_count": 7,
   "id": "24279ddc-1bd8-4812-98c1-18ad099d1e6d",
   "metadata": {},
   "outputs": [
    {
     "name": "stdout",
     "output_type": "stream",
     "text": [
      "[1, 2, 8, 8, 4, 4, 6, 6, 9, 4, 1, 5, 4, 4, 1, 7, 9, 9, 2, 5, 7, 9, 2, 6, 4, 6, 4, 2, 9, 6, 4, 9, 8, 3, 9, 9]\n",
      "Size:\t9000\n",
      "Min:\t1\n",
      "Max:\t9\n",
      "Mean:\t5.00\n",
      "Sum:\t45000\n"
     ]
    }
   ],
   "source": [
    "random.shuffle(population2)\n",
    "print_sample(population2, 36)"
   ]
  },
  {
   "cell_type": "code",
   "execution_count": 8,
   "id": "ef1c053c-b714-4dfd-823d-658dbff1e167",
   "metadata": {},
   "outputs": [
    {
     "name": "stdout",
     "output_type": "stream",
     "text": [
      "[5, 7, 9, 1, 8, 5, 6, 8, 5]\n",
      "Size:\t9\n",
      "Min:\t1\n",
      "Max:\t9\n",
      "Mean:\t6.00\n",
      "Sum:\t54\n"
     ]
    }
   ],
   "source": [
    "sample = random.sample(population2, 9)\n",
    "print_sample(sample)"
   ]
  },
  {
   "cell_type": "code",
   "execution_count": 9,
   "id": "8af3b86a-e8e3-44d9-931f-c2bd6f27e5eb",
   "metadata": {},
   "outputs": [
    {
     "name": "stdout",
     "output_type": "stream",
     "text": [
      "[7, 2, 6, 1, 7, 8, 4, 9, 5]\n",
      "Size:\t9\n",
      "Min:\t1\n",
      "Max:\t9\n",
      "Mean:\t5.44\n",
      "Sum:\t49\n"
     ]
    }
   ],
   "source": [
    "sample = random.sample(population2, 9)\n",
    "print_sample(sample)"
   ]
  },
  {
   "cell_type": "code",
   "execution_count": 10,
   "id": "5479e22e-3d12-497b-b6ae-d57ae85327b9",
   "metadata": {},
   "outputs": [
    {
     "name": "stdout",
     "output_type": "stream",
     "text": [
      "[6, 9, 4, 1, 5, 7, 8, 3, 1]\n",
      "Size:\t9\n",
      "Min:\t1\n",
      "Max:\t9\n",
      "Mean:\t4.89\n",
      "Sum:\t44\n"
     ]
    }
   ],
   "source": [
    "sample = random.sample(population2, 9)\n",
    "print_sample(sample)"
   ]
  },
  {
   "cell_type": "code",
   "execution_count": 11,
   "id": "3f5b2dd9-7fd0-4e35-9ae5-e4bdacc75f4b",
   "metadata": {},
   "outputs": [
    {
     "data": {
      "application/vnd.jupyter.widget-view+json": {
       "model_id": "51d7953cca2e40568e55b1080095d5a5",
       "version_major": 2,
       "version_minor": 0
      },
      "text/plain": [
       "interactive(children=(FloatSlider(value=0.0, description='$\\\\mu$', max=15.0, min=-15.0, readout_format='.1f'),…"
      ]
     },
     "metadata": {},
     "output_type": "display_data"
    }
   ],
   "source": [
    "interact_norm()"
   ]
  },
  {
   "cell_type": "code",
   "execution_count": 12,
   "id": "e9b97545-e719-4a44-808e-20ba79715a09",
   "metadata": {},
   "outputs": [
    {
     "data": {
      "application/vnd.jupyter.widget-view+json": {
       "model_id": "0a3f5c9f0df24a9dbd8eb03d525c850a",
       "version_major": 2,
       "version_minor": 0
      },
      "text/plain": [
       "interactive(children=(FloatSlider(value=200.0, description='$a$', max=200.0, min=0.2, readout_format='.1f'), F…"
      ]
     },
     "metadata": {},
     "output_type": "display_data"
    }
   ],
   "source": [
    "interact_beta()"
   ]
  },
  {
   "cell_type": "code",
   "execution_count": 13,
   "id": "dd1ae4aa-5e6d-4676-a0f2-6a7a5b79d0b7",
   "metadata": {},
   "outputs": [
    {
     "data": {
      "image/png": "[encoded data removed]",
      "text/plain": [
       "<Figure size 1200x300 with 1 Axes>"
      ]
     },
     "metadata": {
      "needs_background": "light"
     },
     "output_type": "display_data"
    }
   ],
   "source": [
    "plot_beta(10000.0, 10000.0, 150.0)"
   ]
  },
  {
   "cell_type": "code",
   "execution_count": 14,
   "id": "058ef319-a9d1-493b-99e9-0fc33ee06430",
   "metadata": {},
   "outputs": [
    {
     "data": {
      "image/png": "[encoded data removed]",
      "text/plain": [
       "<Figure size 1200x300 with 1 Axes>"
      ]
     },
     "metadata": {
      "needs_background": "light"
     },
     "output_type": "display_data"
    }
   ],
   "source": [
    "plot_gamma()"
   ]
  },
  {
   "cell_type": "code",
   "execution_count": 15,
   "id": "b2ddc80c-df9c-415d-9f34-3fa311cb39ff",
   "metadata": {},
   "outputs": [
    {
     "data": {
      "application/vnd.jupyter.widget-view+json": {
       "model_id": "60117adb9ab74c88bf5d4f4847aebd1b",
       "version_major": 2,
       "version_minor": 0
      },
      "text/plain": [
       "interactive(children=(FloatSlider(value=0.1, description='$a$', max=200.0, min=0.1, readout_format='.1f'), Flo…"
      ]
     },
     "metadata": {},
     "output_type": "display_data"
    }
   ],
   "source": [
    "interact_gamma()"
   ]
  },
  {
   "cell_type": "code",
   "execution_count": null,
   "id": "ffd9b462-9eff-45d5-b32c-5b1935f1a722",
   "metadata": {},
   "outputs": [],
   "source": []
  }
 ],
 "metadata": {
  "kernelspec": {
   "display_name": "Python 3 (ipykernel)",
   "language": "python",
   "name": "python3"
  },
  "language_info": {
   "codemirror_mode": {
    "name": "ipython",
    "version": 3
   },
   "file_extension": ".py",
   "mimetype": "text/x-python",
   "name": "python",
   "nbconvert_exporter": "python",
   "pygments_lexer": "ipython3",
   "version": "3.10.3"
  }
 },
 "nbformat": 4,
 "nbformat_minor": 5
}
